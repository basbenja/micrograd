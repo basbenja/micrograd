{
 "cells": [
  {
   "cell_type": "markdown",
   "id": "b6b0724e",
   "metadata": {},
   "source": [
    "# **Recaptiulando sobre derivadas**"
   ]
  },
  {
   "cell_type": "code",
   "execution_count": null,
   "id": "63dc85e9",
   "metadata": {},
   "outputs": [],
   "source": [
    "import numpy as np\n",
    "import matplotlib.pyplot as plt\n",
    "%matplotlib inline"
   ]
  },
  {
   "cell_type": "markdown",
   "id": "15484f73",
   "metadata": {},
   "source": [
    "## **Derivada de una función de una variable**"
   ]
  },
  {
   "cell_type": "code",
   "execution_count": null,
   "id": "57d6c10b",
   "metadata": {},
   "outputs": [],
   "source": [
    "def f(x):\n",
    "    return 3*x**2 - 4*x +5"
   ]
  },
  {
   "cell_type": "code",
   "execution_count": null,
   "id": "1c1021fd",
   "metadata": {},
   "outputs": [],
   "source": [
    "xs = np.arange(-5, 5, 0.25)\n",
    "ys = f(xs)\n",
    "plt.plot(xs, ys)\n",
    "plt.show()"
   ]
  },
  {
   "cell_type": "markdown",
   "id": "55c4ce67",
   "metadata": {},
   "source": [
    "Veamos la derivada de una forma intuitiva. La derivada de una función $f(x)$ en un punto $a$ se define como:\n",
    "\n",
    "$$\n",
    "f'(a) = \\lim_{h \\to 0} \\frac{f(a + h) - f(a)}{h}\n",
    "$$\n",
    "\n",
    "Es decir, nos dice cómo cambia el valor de la función cuando cambiamos el valor actual sobre el que está siendo evaluada ($a$) por un poquito ($h$)."
   ]
  },
  {
   "cell_type": "code",
   "execution_count": null,
   "id": "72405675",
   "metadata": {},
   "outputs": [],
   "source": [
    "h = 0.001\n",
    "a = 3.0\n",
    "print(f\"f(a)                = {f(a)}\")\n",
    "print(f\"f(a+h)              = {f(a+h)}\")\n",
    "print(f\"f(a+h) - f(a)       = {f(a+h) - f(a)}\")\n",
    "print(f\"(f(a+h) - f(a)) / h = {(f(a+h) - f(a)) / h}\")"
   ]
  },
  {
   "cell_type": "markdown",
   "id": "ad206a29",
   "metadata": {},
   "source": [
    "En este caso, la derivada en $a=3.0$ es positiva porque si si nos corremos un poquito a la derecha de 3, la función aumenta."
   ]
  },
  {
   "cell_type": "code",
   "execution_count": null,
   "id": "13767cf1",
   "metadata": {},
   "outputs": [],
   "source": [
    "h = 0.001\n",
    "a = -3.0\n",
    "print(f\"f(a)                = {f(a)}\")\n",
    "print(f\"f(a+h)              = {f(a+h)}\")\n",
    "print(f\"f(a+h) - f(a)       = {f(a+h) - f(a)}\")\n",
    "print(f\"(f(a+h) - f(a)) / h = {(f(a+h) - f(a)) / h}\")"
   ]
  },
  {
   "cell_type": "markdown",
   "id": "e3d8677d",
   "metadata": {},
   "source": [
    "En este caso, la derivada en $a=-3.0$ es negativa porque si nos corremos un poquito a la derecha de -3, la función disminuye."
   ]
  },
  {
   "cell_type": "markdown",
   "id": "b8fb0854",
   "metadata": {},
   "source": [
    "## **Derivada de una función de varias variables**"
   ]
  },
  {
   "cell_type": "code",
   "execution_count": null,
   "id": "6c408a40",
   "metadata": {},
   "outputs": [],
   "source": [
    "def g(x,y,z):\n",
    "    return x*y + z"
   ]
  },
  {
   "cell_type": "code",
   "execution_count": null,
   "id": "9cff71bc",
   "metadata": {},
   "outputs": [],
   "source": [
    "x = 2.0\n",
    "y = -3.0\n",
    "z = 10.0\n",
    "g(x, y, z)"
   ]
  },
  {
   "cell_type": "markdown",
   "id": "17503cfc",
   "metadata": {},
   "source": [
    "Queremos ver ahora la derivada de $g$ con respecto cada una de sus variables. Entonces:\n",
    "- La derivada de $g$ con respecto a $x$ nos va a decir cómo cambia el valor de $g$ cuando cambiamos el valor de $x$ pero dejamos a $y$ y $z$ fijos.\n",
    "- Análogo con $y$ y $z$"
   ]
  },
  {
   "cell_type": "code",
   "execution_count": null,
   "id": "a60eca7e",
   "metadata": {},
   "outputs": [],
   "source": [
    "h = 0.0001\n",
    "\n",
    "d1 = g(x, y, z)\n",
    "d2 = g(x+h, y, z)\n",
    "\n",
    "print(f\"d1       = {d1}\")\n",
    "print(f\"d2       = {d2}\")\n",
    "print(f\"derivada = {(d2-d1)/h}\")"
   ]
  },
  {
   "cell_type": "markdown",
   "id": "ba4f77df",
   "metadata": {},
   "source": [
    "Intuitivamente, se puede ver que como $x$ está multiplicando a $y=-3$, que es un número negativo, entonces si aumentamos $x$, el valor de la función va a disminuir. Por lo tanto, la derivada de $g$ con respecto a $x$ en el punto $(2,-3,10)$ va a ser negativa.\n",
    "\n",
    "Podemos hacer el mismo razonamiento para ver qué pasa cuando modificamos $y$ y $z$."
   ]
  }
 ],
 "metadata": {
  "kernelspec": {
   "display_name": "micrograd",
   "language": "python",
   "name": "python3"
  },
  "language_info": {
   "codemirror_mode": {
    "name": "ipython",
    "version": 3
   },
   "file_extension": ".py",
   "mimetype": "text/x-python",
   "name": "python",
   "nbconvert_exporter": "python",
   "pygments_lexer": "ipython3",
   "version": "3.13.3"
  }
 },
 "nbformat": 4,
 "nbformat_minor": 5
}
