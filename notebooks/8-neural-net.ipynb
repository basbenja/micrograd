{
 "cells": [
  {
   "cell_type": "code",
   "execution_count": null,
   "id": "6de1b508",
   "metadata": {},
   "outputs": [],
   "source": [
    "%load_ext autoreload\n",
    "%autoreload 2"
   ]
  },
  {
   "cell_type": "code",
   "execution_count": null,
   "id": "4ec70877",
   "metadata": {},
   "outputs": [],
   "source": [
    "import os\n",
    "import sys\n",
    "import random\n",
    "\n",
    "sys.path.append(os.path.dirname(os.getcwd()))\n",
    "\n",
    "from engine import Value\n",
    "from utils import draw_trace"
   ]
  },
  {
   "cell_type": "markdown",
   "id": "ad852071",
   "metadata": {},
   "source": [
    "## **Implementando nuestra red neuronal**"
   ]
  },
  {
   "cell_type": "markdown",
   "id": "8402be74",
   "metadata": {},
   "source": [
    "Las redes neuronales no son más que funciones matemáticas un poco más complejas. Vamos a diseñar la nuestra de una forma muy parecida a como se definen en PyTorch, que es un estilo más declarativo."
   ]
  },
  {
   "cell_type": "code",
   "execution_count": null,
   "id": "0c7bfe9b",
   "metadata": {},
   "outputs": [],
   "source": [
    "class Neuron:\n",
    "    def __init__(self, nin: int):\n",
    "        \"\"\"\n",
    "        Args:\n",
    "            nin (int): number of inputs of the neuron.\n",
    "        \"\"\"\n",
    "        # We have to associate a weight to each input\n",
    "        self.w = [Value(random.uniform(-1, 1)) for _ in range(nin)]\n",
    "        # And the bias\n",
    "        self.b = Value(random.uniform(-1, 1))\n",
    "\n",
    "    def __call__(self, x):\n",
    "        # w * x + b (dot product)\n",
    "        activation = sum((wi*xi for wi, xi in zip(self.w, x)), self.b)\n",
    "        # tanh(w * x + b)\n",
    "        out = activation.tanh()\n",
    "        return out"
   ]
  },
  {
   "cell_type": "code",
   "execution_count": null,
   "id": "81e37f94",
   "metadata": {},
   "outputs": [],
   "source": [
    "x = [2.0, 3.0]\n",
    "n = Neuron(2)\n",
    "n(x)"
   ]
  },
  {
   "cell_type": "code",
   "execution_count": null,
   "id": "6c1e6121",
   "metadata": {},
   "outputs": [],
   "source": [
    "draw_trace(n(x))"
   ]
  },
  {
   "cell_type": "markdown",
   "id": "0a2b05c9",
   "metadata": {},
   "source": [
    "Ahora definimos una **capa** de neuronas:"
   ]
  },
  {
   "cell_type": "code",
   "execution_count": null,
   "id": "3a7e1bba",
   "metadata": {},
   "outputs": [],
   "source": [
    "class Layer:\n",
    "    def __init__(self, nin: int, nout: int):\n",
    "        \"\"\"\n",
    "        Args:\n",
    "            nin (int): the dimensionality of each neuron (the size of the input of\n",
    "                each neuron).\n",
    "            nout (int): amount of neurons in the layer.\n",
    "        \"\"\"\n",
    "        self.neurons = [Neuron(nin) for _ in range(nout)]\n",
    "\n",
    "    def __call__(self, x):\n",
    "        outs = [neuron(x) for neuron in self.neurons]\n",
    "        return outs[0] if len(outs) == 1 else outs"
   ]
  },
  {
   "cell_type": "code",
   "execution_count": null,
   "id": "a1345c21",
   "metadata": {},
   "outputs": [],
   "source": [
    "x = [2.0, 3.0]\n",
    "l = Layer(2, 3)\n",
    "l(x)"
   ]
  },
  {
   "cell_type": "markdown",
   "id": "c5a769bf",
   "metadata": {},
   "source": [
    "Y ahora el **perceptrón multicapa**:"
   ]
  },
  {
   "cell_type": "code",
   "execution_count": null,
   "id": "78eb71e9",
   "metadata": {},
   "outputs": [],
   "source": [
    "class MLP:\n",
    "    def __init__(self, nin: int, nouts: list[int]):\n",
    "        \"\"\"\n",
    "        Args:\n",
    "            nin (int): amount of inputs of the network.\n",
    "            nouts (list[int]): amount of neurons in each layer.\n",
    "        \"\"\"\n",
    "        sizes = [nin] + nouts\n",
    "        # len(nouts) = len(sizes) - 1\n",
    "        self.layers = [Layer(sizes[i], sizes[i+1]) for i in range(len(nouts))]\n",
    "\n",
    "    def __call__(self, x):\n",
    "        for layer in self.layers:\n",
    "            x = layer(x)\n",
    "        return x"
   ]
  },
  {
   "cell_type": "code",
   "execution_count": null,
   "id": "db77100c",
   "metadata": {},
   "outputs": [],
   "source": [
    "nn = MLP(3, [4, 4, 1])\n",
    "x = [2.0, 3.0, -1.0]\n",
    "nn(x)"
   ]
  },
  {
   "cell_type": "code",
   "execution_count": null,
   "id": "b9ca2fca",
   "metadata": {},
   "outputs": [],
   "source": [
    "draw_trace(nn(x))"
   ]
  }
 ],
 "metadata": {
  "kernelspec": {
   "display_name": "micrograd",
   "language": "python",
   "name": "python3"
  },
  "language_info": {
   "codemirror_mode": {
    "name": "ipython",
    "version": 3
   },
   "file_extension": ".py",
   "mimetype": "text/x-python",
   "name": "python",
   "nbconvert_exporter": "python",
   "pygments_lexer": "ipython3",
   "version": "3.13.5"
  }
 },
 "nbformat": 4,
 "nbformat_minor": 5
}
