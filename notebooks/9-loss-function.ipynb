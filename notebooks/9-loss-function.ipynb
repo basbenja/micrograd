{
 "cells": [
  {
   "cell_type": "code",
   "execution_count": null,
   "id": "1ee66efd",
   "metadata": {},
   "outputs": [],
   "source": [
    "%load_ext autoreload\n",
    "%autoreload 2"
   ]
  },
  {
   "cell_type": "code",
   "execution_count": null,
   "id": "253c0553",
   "metadata": {},
   "outputs": [],
   "source": [
    "import os\n",
    "import sys\n",
    "import random\n",
    "\n",
    "sys.path.append(os.path.dirname(os.getcwd()))\n",
    "\n",
    "from nn import MLP\n",
    "from utils import draw_trace"
   ]
  },
  {
   "cell_type": "markdown",
   "id": "e87b978d",
   "metadata": {},
   "source": [
    "## **Construimos nuestro dataset**"
   ]
  },
  {
   "cell_type": "code",
   "execution_count": null,
   "id": "b79c9b39",
   "metadata": {},
   "outputs": [],
   "source": [
    "xs = [\n",
    "    [2.0, 3.0, -1.0],\n",
    "    [3.0, -1.0, 0.5],\n",
    "    [0.5, 1.0, 1.0],\n",
    "    [1.0, 1.0 , -1.0]\n",
    "]\n",
    "\n",
    "# Desired outputs for each input\n",
    "y_true = [1.0, -1.0, -1.0, 1.0]"
   ]
  },
  {
   "cell_type": "markdown",
   "id": "3d1a0ecf",
   "metadata": {},
   "source": [
    "## **Instanciamos nuestra red neuronal**"
   ]
  },
  {
   "cell_type": "code",
   "execution_count": null,
   "id": "fa40cfc5",
   "metadata": {},
   "outputs": [],
   "source": [
    "nn = MLP(nin=4, nouts=[4, 4, 1])"
   ]
  },
  {
   "cell_type": "markdown",
   "id": "4d47fd16",
   "metadata": {},
   "source": [
    "## **Predicciones iniciales**\n",
    "Veamos qué predice nuestro MLP en su estado inicial para las diferentes entradas."
   ]
  },
  {
   "cell_type": "code",
   "execution_count": null,
   "id": "d22fde38",
   "metadata": {},
   "outputs": [],
   "source": [
    "y_pred = [nn(x) for x in xs]\n",
    "y_pred"
   ]
  },
  {
   "cell_type": "markdown",
   "id": "b5e5d11b",
   "metadata": {},
   "source": [
    "Entonces, ¿cómo hacemos para que la red haga mejores predicciones que se acerquen más a las salidas esperadas? Para esto, se define lo que se llama la **pérdida**."
   ]
  },
  {
   "cell_type": "markdown",
   "id": "4e569256",
   "metadata": {},
   "source": [
    "## **Función de pérdida**"
   ]
  },
  {
   "cell_type": "markdown",
   "id": "a78618e0",
   "metadata": {},
   "source": [
    "La función de pérdida sirve para resumir en un solo número el desempeño de la red con sus parámetros actuales,\n",
    "en términos de qué tan lejos está de predecir correctamente las salidas esperadas.\n",
    "\n",
    "Valores de pérdida más bajos indican un mejor desempeño."
   ]
  },
  {
   "cell_type": "markdown",
   "id": "de9926ea",
   "metadata": {},
   "source": [
    "En este caso, vamos a implementar el **Error Cuadrático**.\n",
    "$$\n",
    "\\sum_{i=1}^{N} \\left(y_i - \\hat{y}_i \\right)^2\n",
    "$$"
   ]
  },
  {
   "cell_type": "code",
   "execution_count": null,
   "id": "6512ac64",
   "metadata": {},
   "outputs": [],
   "source": [
    "# Let's see first the individual losses\n",
    "losses = [(yi_true - yi_pred)**2 for yi_true, yi_pred in zip(y_true, y_pred)]\n",
    "losses"
   ]
  },
  {
   "cell_type": "code",
   "execution_count": null,
   "id": "29b01fac",
   "metadata": {},
   "outputs": [],
   "source": [
    "loss = sum(losses)\n",
    "print(loss)"
   ]
  },
  {
   "cell_type": "code",
   "execution_count": null,
   "id": "db5bcabc",
   "metadata": {},
   "outputs": [],
   "source": [
    "loss.backward()"
   ]
  },
  {
   "cell_type": "code",
   "execution_count": null,
   "id": "7641624d",
   "metadata": {},
   "outputs": [],
   "source": [
    "nn.layers[0].neurons[0].w[0].grad"
   ]
  },
  {
   "cell_type": "code",
   "execution_count": null,
   "id": "249098ef",
   "metadata": {},
   "outputs": [],
   "source": [
    "draw_trace(loss)"
   ]
  }
 ],
 "metadata": {
  "kernelspec": {
   "display_name": "micrograd",
   "language": "python",
   "name": "python3"
  },
  "language_info": {
   "codemirror_mode": {
    "name": "ipython",
    "version": 3
   },
   "file_extension": ".py",
   "mimetype": "text/x-python",
   "name": "python",
   "nbconvert_exporter": "python",
   "pygments_lexer": "ipython3",
   "version": "3.13.5"
  }
 },
 "nbformat": 4,
 "nbformat_minor": 5
}
